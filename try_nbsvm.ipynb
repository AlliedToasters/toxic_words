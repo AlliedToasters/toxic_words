{
 "cells": [
  {
   "cell_type": "markdown",
   "metadata": {},
   "source": [
    "## Challange: Improve NLP Model\n",
    "<br>\n",
    "I am using <a href='https://www.kaggle.com/c/jigsaw-toxic-comment-classification-challenge'>this Kaggle competition</a> to build an NLP model. This notebook covers my attempt to improve my model performance.<br>\n",
    "This time around, I'm going to use a technique inspired by <a href='https://nlp.stanford.edu/pubs/sidaw12_simple_sentiment.pdf'>this paper</a> (<I>Baselines and Bigrams: Simple, Good Sentiment and Topic Classification</I> by Sida Wang and Christopher D. Manning) and implimented in <a href='https://www.kaggle.com/jhoward/nb-svm-strong-linear-baseline-eda-0-052-lb'>a walkthrough by this Kaggle contributor</a>."
   ]
  },
  {
   "cell_type": "code",
   "execution_count": 31,
   "metadata": {
    "collapsed": true
   },
   "outputs": [],
   "source": [
    "import pandas as pd\n",
    "import numpy as np\n",
    "import matplotlib.pyplot as plt\n",
    "import spacy\n",
    "import nltk\n",
    "import gc\n",
    "import re, string\n",
    "from sklearn.feature_extraction.text import CountVectorizer, TfidfVectorizer\n",
    "from sklearn.naive_bayes import BernoulliNB, MultinomialNB\n",
    "from sklearn.model_selection import cross_val_score, GridSearchCV\n",
    "from sklearn.metrics import log_loss, make_scorer\n",
    "from scipy import sparse\n",
    "from sklearn.pipeline import Pipeline\n",
    "from sklearn.feature_selection import chi2, SelectKBest\n",
    "from sklearn.decomposition import TruncatedSVD\n",
    "from sklearn.linear_model import LogisticRegression\n",
    "from sklearn.base import BaseEstimator, ClassifierMixin\n",
    "from sklearn.utils.validation import check_X_y, check_is_fitted\n",
    "from sklearn.utils.multiclass import unique_labels\n",
    "from sklearn.linear_model import LogisticRegression\n",
    "from IPython.display import Image\n"
   ]
  },
  {
   "cell_type": "code",
   "execution_count": 5,
   "metadata": {
    "collapsed": true
   },
   "outputs": [],
   "source": [
    "df = pd.read_csv('train.csv')\n",
    "test = pd.read_csv('test.csv')\n",
    "classes = [\n",
    "    'toxic',\n",
    "    'severe_toxic',\n",
    "    'obscene', \n",
    "    'threat',\n",
    "    'insult', \n",
    "    'identity_hate'\n",
    "]"
   ]
  },
  {
   "cell_type": "code",
   "execution_count": 3,
   "metadata": {
    "collapsed": true
   },
   "outputs": [],
   "source": [
    "ll_scorer = make_scorer(log_loss, greater_is_better=False)"
   ]
  },
  {
   "cell_type": "code",
   "execution_count": 11,
   "metadata": {
    "collapsed": true
   },
   "outputs": [],
   "source": [
    "class NbSvmClassifier(BaseEstimator, ClassifierMixin):\n",
    "    \"\"\"This is the paper-inspired NB-prior assisted model. The contributor uses\n",
    "    logistic regression instead of SVM for computation time. Another contributor\n",
    "    created this sklearn-like implimentation.\n",
    "    \"\"\"\n",
    "    def __init__(self, C=1.0, dual=False, n_jobs=1):\n",
    "        self.C = C\n",
    "        self.dual = dual\n",
    "        self.n_jobs = n_jobs\n",
    "\n",
    "    def predict(self, x):\n",
    "        # Verify that model has been fit\n",
    "        check_is_fitted(self, ['_x', '_y', '_r', '_clf'])\n",
    "        return self._clf.predict(x.multiply(self._r))\n",
    "\n",
    "    def predict_proba(self, x):\n",
    "        # Verify that model has been fit\n",
    "        check_is_fitted(self, ['_x', '_y', '_r', '_clf'])\n",
    "        return self._clf.predict_proba(x.multiply(self._r))\n",
    "\n",
    "    def fit(self, x, y):\n",
    "        # Check that X and y have correct shape\n",
    "        y = y.values\n",
    "        x, y = check_X_y(x, y, accept_sparse=True)\n",
    "\n",
    "        # Store labels, X and y\n",
    "        self._x = x\n",
    "        self._y = y\n",
    "        self._classes = unique_labels(y)\n",
    "\n",
    "        def pr(x, y_i, y):\n",
    "            p = x[y==y_i].sum(0)\n",
    "            return (p+1) / ((y==y_i).sum()+1)\n",
    "        self._r = np.log(pr(x,1,y) / pr(x,0,y))\n",
    "        self._clf = LogisticRegression(C=self.C, dual=self.dual, n_jobs=self.n_jobs)\n",
    "        x_nb = x.multiply(self._r)\n",
    "        self._clf.fit(x_nb, y)\n",
    "        return self\n",
    "    \n",
    "class NullModel(object):\n",
    "    \"\"\"This is our benchmark model, which return the same prediction for each document\n",
    "    (not toxic)\n",
    "    \"\"\"\n",
    "    def __init__(self):\n",
    "        return None\n",
    "    \n",
    "    def fit(self, Xtrain, Ytrain):\n",
    "        return self\n",
    "    \n",
    "    def predict(self, X):\n",
    "        length = X.shape[0]\n",
    "        return [0 for x in range(0, length)]\n",
    "    \n",
    "    def get_params(self, deep=False):\n",
    "        return {}"
   ]
  },
  {
   "cell_type": "code",
   "execution_count": 8,
   "metadata": {},
   "outputs": [
    {
     "data": {
      "text/plain": [
       "True"
      ]
     },
     "execution_count": 8,
     "metadata": {},
     "output_type": "execute_result"
    }
   ],
   "source": [
    "test.comment_text.isnull().any()"
   ]
  },
  {
   "cell_type": "code",
   "execution_count": 10,
   "metadata": {},
   "outputs": [],
   "source": [
    "test.comment_text = np.where(test.comment_text.isnull(), '', test.comment_text)"
   ]
  },
  {
   "cell_type": "code",
   "execution_count": 13,
   "metadata": {
    "collapsed": true
   },
   "outputs": [],
   "source": [
    "re_tok = re.compile(f'([{string.punctuation}“”¨«»®´·º½¾¿¡§£₤‘’])')\n",
    "def tokenize(s): return re_tok.sub(r' \\1 ', s).split()"
   ]
  },
  {
   "cell_type": "code",
   "execution_count": 17,
   "metadata": {},
   "outputs": [
    {
     "data": {
      "text/plain": [
       "['Fried', 'chickens', 'Is', 'dat', 'sum', 'fried', 'chickens', '?']"
      ]
     },
     "execution_count": 17,
     "metadata": {},
     "output_type": "execute_result"
    }
   ],
   "source": [
    "tokenize(df.iloc[5].comment_text)"
   ]
  },
  {
   "cell_type": "code",
   "execution_count": 18,
   "metadata": {
    "collapsed": true
   },
   "outputs": [],
   "source": [
    "def test_features(df, X):\n",
    "    \"\"\"This function runs a simple naive bayes model on the extracted features\n",
    "    and compares its performance to the null model for each class.\n",
    "    Returns a dataframe object with results.\n",
    "    \"\"\"\n",
    "    mean_ll = []\n",
    "    null_ll = []\n",
    "    mean_acc = []\n",
    "    maj_class = []\n",
    "    for cls in classes:\n",
    "        print('working on', cls)\n",
    "        Y = df[cls]\n",
    "        mod = NbSvmClassifier(C=4, dual=True, n_jobs=1)\n",
    "        mean_ll.append(cross_val_score(mod, X, Y, scoring=ll_scorer, cv=5).mean())\n",
    "        nulmod = NullModel()\n",
    "        null_ll.append(cross_val_score(nulmod, X, Y, scoring=ll_scorer).mean())\n",
    "        mean_acc.append(cross_val_score(mod, X, Y, cv=5).mean())\n",
    "        maj_class.append(1-(Y.sum()/len(df)))\n",
    "\n",
    "    result = pd.DataFrame()\n",
    "    result['class'] = classes\n",
    "    result['mean_log_loss'] = mean_ll\n",
    "    result['null_log_loss'] = null_ll\n",
    "    result['mean_accuracy'] = mean_acc\n",
    "    result['majority_class_prior'] = maj_class\n",
    "    return result"
   ]
  },
  {
   "cell_type": "code",
   "execution_count": 19,
   "metadata": {},
   "outputs": [
    {
     "name": "stdout",
     "output_type": "stream",
     "text": [
      "vectorizing!\n",
      "modeling!\n",
      "           class  mean_log_loss  null_log_loss  mean_accuracy  \\\n",
      "0          toxic      -1.315598      -3.328444       0.961910   \n",
      "1   severe_toxic      -0.331513      -0.347727       0.990402   \n",
      "2        obscene      -0.735814      -1.840968       0.978696   \n",
      "3         threat      -0.099454      -0.109903       0.997121   \n",
      "4         insult      -1.006430      -1.717012       0.970861   \n",
      "5  identity_hate      -0.262687      -0.293315       0.992394   \n",
      "\n",
      "   majority_class_prior  \n",
      "0              0.903632  \n",
      "1              0.989932  \n",
      "2              0.946699  \n",
      "3              0.996818  \n",
      "4              0.950287  \n",
      "5              0.991508  \n",
      "-0.625249287861\n"
     ]
    }
   ],
   "source": [
    "gc.collect()\n",
    "vctr = TfidfVectorizer(\n",
    "    ngram_range=(1,2), \n",
    "    tokenizer=tokenize,\n",
    "    min_df=3, \n",
    "    max_df=0.9, \n",
    "    strip_accents='unicode', \n",
    "    use_idf=1,\n",
    "    smooth_idf=1, \n",
    "    sublinear_tf=1 \n",
    ")\n",
    "\n",
    "print('vectorizing!')\n",
    "X = vctr.fit_transform(df.comment_text)\n",
    "print('modeling!')\n",
    "result = test_features(df, X)\n",
    "print(result)\n",
    "print(result.mean_log_loss.mean())"
   ]
  },
  {
   "cell_type": "code",
   "execution_count": 20,
   "metadata": {},
   "outputs": [
    {
     "name": "stdout",
     "output_type": "stream",
     "text": [
      "-0.625249287861\n",
      "-1.27289486639\n"
     ]
    }
   ],
   "source": [
    "print(result.mean_log_loss.mean())\n",
    "print(result.null_log_loss.mean())"
   ]
  },
  {
   "cell_type": "code",
   "execution_count": 23,
   "metadata": {},
   "outputs": [
    {
     "name": "stdout",
     "output_type": "stream",
     "text": [
      "vectorizing!\n",
      "predicting toxic\n",
      "fitting...\n",
      "predicting...\n",
      "predicting severe_toxic\n",
      "fitting...\n",
      "predicting...\n",
      "predicting obscene\n",
      "fitting...\n",
      "predicting...\n",
      "predicting threat\n",
      "fitting...\n",
      "predicting...\n",
      "predicting insult\n",
      "fitting...\n",
      "predicting...\n",
      "predicting identity_hate\n",
      "fitting...\n",
      "predicting...\n"
     ]
    }
   ],
   "source": [
    "gc.collect()\n",
    "sub = pd.DataFrame(index=test.index, columns=['id'] + classes)\n",
    "sub['id'] = test['id']\n",
    "print('vectorizing!')\n",
    "X_test = vctr.transform(test.comment_text)\n",
    "for cls in classes:\n",
    "    print('predicting', cls)\n",
    "    print('fitting...')\n",
    "    mod = NbSvmClassifier(C=4, dual=True, n_jobs=1)\n",
    "    mod.fit(X, df[cls])\n",
    "    print('predicting...')\n",
    "    sub[cls] = mod.predict_proba(X_test)[:,1]"
   ]
  },
  {
   "cell_type": "code",
   "execution_count": 29,
   "metadata": {},
   "outputs": [
    {
     "data": {
      "text/html": [
       "<div>\n",
       "<style>\n",
       "    .dataframe thead tr:only-child th {\n",
       "        text-align: right;\n",
       "    }\n",
       "\n",
       "    .dataframe thead th {\n",
       "        text-align: left;\n",
       "    }\n",
       "\n",
       "    .dataframe tbody tr th {\n",
       "        vertical-align: top;\n",
       "    }\n",
       "</style>\n",
       "<table border=\"1\" class=\"dataframe\">\n",
       "  <thead>\n",
       "    <tr style=\"text-align: right;\">\n",
       "      <th></th>\n",
       "      <th>id</th>\n",
       "      <th>toxic</th>\n",
       "      <th>severe_toxic</th>\n",
       "      <th>obscene</th>\n",
       "      <th>threat</th>\n",
       "      <th>insult</th>\n",
       "      <th>identity_hate</th>\n",
       "    </tr>\n",
       "  </thead>\n",
       "  <tbody>\n",
       "    <tr>\n",
       "      <th>0</th>\n",
       "      <td>6044863</td>\n",
       "      <td>0.005677</td>\n",
       "      <td>0.000518</td>\n",
       "      <td>0.002279</td>\n",
       "      <td>0.000129</td>\n",
       "      <td>0.002221</td>\n",
       "      <td>0.000532</td>\n",
       "    </tr>\n",
       "    <tr>\n",
       "      <th>1</th>\n",
       "      <td>6102620</td>\n",
       "      <td>0.003165</td>\n",
       "      <td>0.000214</td>\n",
       "      <td>0.002768</td>\n",
       "      <td>0.000107</td>\n",
       "      <td>0.001442</td>\n",
       "      <td>0.000403</td>\n",
       "    </tr>\n",
       "    <tr>\n",
       "      <th>2</th>\n",
       "      <td>14563293</td>\n",
       "      <td>0.001239</td>\n",
       "      <td>0.000355</td>\n",
       "      <td>0.001457</td>\n",
       "      <td>0.000117</td>\n",
       "      <td>0.001352</td>\n",
       "      <td>0.000239</td>\n",
       "    </tr>\n",
       "    <tr>\n",
       "      <th>3</th>\n",
       "      <td>21086297</td>\n",
       "      <td>0.018860</td>\n",
       "      <td>0.001049</td>\n",
       "      <td>0.005513</td>\n",
       "      <td>0.000156</td>\n",
       "      <td>0.004371</td>\n",
       "      <td>0.000299</td>\n",
       "    </tr>\n",
       "    <tr>\n",
       "      <th>4</th>\n",
       "      <td>22982444</td>\n",
       "      <td>0.004627</td>\n",
       "      <td>0.000809</td>\n",
       "      <td>0.002852</td>\n",
       "      <td>0.000140</td>\n",
       "      <td>0.001541</td>\n",
       "      <td>0.000647</td>\n",
       "    </tr>\n",
       "  </tbody>\n",
       "</table>\n",
       "</div>"
      ],
      "text/plain": [
       "         id     toxic  severe_toxic   obscene    threat    insult  \\\n",
       "0   6044863  0.005677      0.000518  0.002279  0.000129  0.002221   \n",
       "1   6102620  0.003165      0.000214  0.002768  0.000107  0.001442   \n",
       "2  14563293  0.001239      0.000355  0.001457  0.000117  0.001352   \n",
       "3  21086297  0.018860      0.001049  0.005513  0.000156  0.004371   \n",
       "4  22982444  0.004627      0.000809  0.002852  0.000140  0.001541   \n",
       "\n",
       "   identity_hate  \n",
       "0       0.000532  \n",
       "1       0.000403  \n",
       "2       0.000239  \n",
       "3       0.000299  \n",
       "4       0.000647  "
      ]
     },
     "execution_count": 29,
     "metadata": {},
     "output_type": "execute_result"
    }
   ],
   "source": [
    "sub.head()"
   ]
  },
  {
   "cell_type": "code",
   "execution_count": 28,
   "metadata": {
    "collapsed": true
   },
   "outputs": [],
   "source": [
    "sub.to_csv('attempt1.csv', index=False)"
   ]
  },
  {
   "cell_type": "code",
   "execution_count": 33,
   "metadata": {},
   "outputs": [
    {
     "data": {
      "image/png": "[encoded data removed]",
      "text/plain": [
       "<IPython.core.display.Image object>"
      ]
     },
     "execution_count": 33,
     "metadata": {},
     "output_type": "execute_result"
    }
   ],
   "source": [
    "Image(\"scrnsht.png\")"
   ]
  },
  {
   "cell_type": "code",
   "execution_count": null,
   "metadata": {
    "collapsed": true
   },
   "outputs": [],
   "source": []
  }
 ],
 "metadata": {
  "anaconda-cloud": {},
  "kernelspec": {
   "display_name": "Environment (conda_dspy3)",
   "language": "python",
   "name": "conda_dspy3"
  },
  "language_info": {
   "codemirror_mode": {
    "name": "ipython",
    "version": 3
   },
   "file_extension": ".py",
   "mimetype": "text/x-python",
   "name": "python",
   "nbconvert_exporter": "python",
   "pygments_lexer": "ipython3",
   "version": "3.6.2"
  }
 },
 "nbformat": 4,
 "nbformat_minor": 2
}
