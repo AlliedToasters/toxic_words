{
 "cells": [
  {
   "cell_type": "code",
   "execution_count": 1,
   "metadata": {
    "collapsed": true
   },
   "outputs": [],
   "source": [
    "import pandas as pd\n",
    "import numpy as np\n",
    "import matplotlib.pyplot as plt\n",
    "import spacy\n",
    "import nltk"
   ]
  },
  {
   "cell_type": "code",
   "execution_count": 2,
   "metadata": {
    "collapsed": true
   },
   "outputs": [],
   "source": [
    "df = pd.read_csv('train.csv')"
   ]
  },
  {
   "cell_type": "code",
   "execution_count": 5,
   "metadata": {},
   "outputs": [],
   "source": [
    "df.is_toxic = df[['toxic', 'severe_toxic', 'obscene', 'threat', 'insult', 'identity_hate']].sum(axis=1)\n",
    "#There are rows with no toxic classes"
   ]
  },
  {
   "cell_type": "code",
   "execution_count": 7,
   "metadata": {},
   "outputs": [],
   "source": [
    "df.is_toxic = np.where(df.is_toxic > 0 , 1, 0)"
   ]
  },
  {
   "cell_type": "code",
   "execution_count": 10,
   "metadata": {},
   "outputs": [
    {
     "data": {
      "text/plain": [
       "0.10213769287748693"
      ]
     },
     "execution_count": 10,
     "metadata": {},
     "output_type": "execute_result"
    }
   ],
   "source": [
    "df.is_toxic.sum()/len(df)"
   ]
  },
  {
   "cell_type": "code",
   "execution_count": 12,
   "metadata": {},
   "outputs": [
    {
     "data": {
      "text/plain": [
       "'\"\\nBan one side of an argument by a bullshit nazi admin and you get no discussion because the islamist editors feel they \"\"won\"\".\"'"
      ]
     },
     "execution_count": 12,
     "metadata": {},
     "output_type": "execute_result"
    }
   ],
   "source": [
    "df.comment_text.loc[32] #Example of non-toxic comment"
   ]
  },
  {
   "cell_type": "code",
   "execution_count": null,
   "metadata": {
    "collapsed": true
   },
   "outputs": [],
   "source": []
  },
  {
   "cell_type": "code",
   "execution_count": 18,
   "metadata": {},
   "outputs": [
    {
     "data": {
      "text/plain": [
       "array([1])"
      ]
     },
     "execution_count": 18,
     "metadata": {},
     "output_type": "execute_result"
    }
   ],
   "source": [
    "df[df.severe_toxic==1].toxic.unique() #All \"severe toxic\" are also \"toxic\""
   ]
  },
  {
   "cell_type": "code",
   "execution_count": 19,
   "metadata": {},
   "outputs": [
    {
     "data": {
      "text/plain": [
       "array([1, 0, 3, 2, 4, 5, 6])"
      ]
     },
     "execution_count": 19,
     "metadata": {},
     "output_type": "execute_result"
    }
   ],
   "source": [
    "df[['toxic', 'severe_toxic', 'obscene', 'threat', 'insult', 'identity_hate']].sum(axis=1).unique()\n",
    "#And comments can have any number of toxic values"
   ]
  },
  {
   "cell_type": "code",
   "execution_count": 20,
   "metadata": {
    "collapsed": true
   },
   "outputs": [],
   "source": [
    "prs = spacy.load('en')"
   ]
  },
  {
   "cell_type": "code",
   "execution_count": 38,
   "metadata": {},
   "outputs": [
    {
     "name": "stdout",
     "output_type": "stream",
     "text": [
      "point\n",
      "of\n",
      "interest\n",
      "-PRON-\n",
      "remove\n",
      "the\n",
      "point\n",
      "of\n",
      "interest\n",
      "section\n",
      "-PRON-\n",
      "add\n",
      "because\n",
      "-PRON-\n",
      "seem\n",
      "kind\n",
      "of\n",
      "-PRON-\n",
      "know\n",
      "-PRON-\n",
      "probably\n",
      "do\n",
      "not\n",
      "mean\n",
      "to\n",
      "disobey\n",
      "the\n",
      "rule\n",
      "but\n",
      "generally\n",
      "a\n",
      "point\n",
      "of\n",
      "interest\n",
      "tend\n",
      "to\n",
      "be\n",
      "rather\n",
      "touristy\n",
      "and\n",
      "quite\n",
      "irrelevant\n",
      "to\n",
      "an\n",
      "area\n",
      "culture\n",
      "that\n",
      "be\n",
      "just\n",
      "-PRON-\n",
      "opinion\n",
      "though\n",
      "if\n",
      "-PRON-\n",
      "want\n",
      "to\n",
      "reply\n",
      "just\n",
      "put\n",
      "-PRON-\n",
      "reply\n",
      "here\n",
      "and\n",
      "add\n",
      "on\n",
      "-PRON-\n"
     ]
    }
   ],
   "source": [
    "for token in prs(df.comment_text.iloc[2]):\n",
    "    if not token.is_punct and not token.is_space and not token.is_oov:\n",
    "        print(token.lemma_)"
   ]
  },
  {
   "cell_type": "code",
   "execution_count": null,
   "metadata": {
    "collapsed": true
   },
   "outputs": [],
   "source": []
  }
 ],
 "metadata": {
  "anaconda-cloud": {},
  "kernelspec": {
   "display_name": "Environment (conda_dspy3)",
   "language": "python",
   "name": "conda_dspy3"
  },
  "language_info": {
   "codemirror_mode": {
    "name": "ipython",
    "version": 3
   },
   "file_extension": ".py",
   "mimetype": "text/x-python",
   "name": "python",
   "nbconvert_exporter": "python",
   "pygments_lexer": "ipython3",
   "version": "3.6.2"
  }
 },
 "nbformat": 4,
 "nbformat_minor": 2
}
